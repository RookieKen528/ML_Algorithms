{
 "cells": [
  {
   "cell_type": "markdown",
   "metadata": {},
   "source": [
    "## Note\n",
    "### 1. 线性回归模型\n",
    "- x：特征矩阵\n",
    "- w：权值向量，同线性模型的参数向量\n",
    "- b：截距\n",
    "$$y=x\\cdot w+b$$\n",
    "\n",
    "### 2. 二分类逻辑回归模型\n",
    "- Y：标签\n",
    "- 左侧为Y=1的条件概率\n",
    "$$P(Y=1|x)=\\frac{1}{1+e^{-(x\\cdot w+b)}}$$\n",
    "\n",
    "### 3. 极大似然与损失函数\n",
    "- 设：\n",
    "$$P(Y=1|x)=p(x)$$\n",
    "$$P(Y=0|x)=1-p(x)$$\n",
    "- 通过极大似然使得概率值逼近标签值\n",
    "    - xi:一个样本\n",
    "    - yi：i样本对应的真实标签\n",
    "$$MLE=ArgMax \\prod [p(x_{i})]^{y_{i}}*[1-p(x_{i})]^{1-y_{i}}$$\n",
    "- 损失函数 logloss\n",
    "    - n：样本数\n",
    "$$LogLoss = ArgMin-\\frac{1}{n}(\\sum_{i=1}^{n}(y_{i}*ln(p(x_{i}))+(1-y_{i})*ln(1-p(x_{i})))$$\n",
    "\n",
    "### 4. 梯度下降\n",
    "$$g_{i} = \\frac{\\partial LogLoss}{\\partial w}=\\frac{1}{n}\\sum_{i=1}^{n}x_{i}*(p(x_{i})-y_{i})$$\n",
    "\n",
    "- 通过迭代，更新w得到最优损失函数\n",
    "    - j：第j轮迭代\n",
    "    - lambda：学习率\n",
    "$$w_{i}^{j+1}=w_{i}^{j}-\\lambda g_{i}$$\n",
    "\n",
    "### 5. 逻辑回归最终预测模型\n",
    "$$LogisticModel=\\left \\{ \n",
    "\\begin{aligned}\n",
    "1 \\quad \\frac{1}{1+e^{-(x\\cdot w+b)}}>0.5 \\\\\n",
    "-1  \\quad \\frac{1}{1+e^{-(x\\cdot w+b)}}\\leq 0.5\n",
    "\\end{aligned}\n",
    "\\right.$$"
   ]
  },
  {
   "cell_type": "markdown",
   "metadata": {},
   "source": [
    "## 逻辑回归算法 python实现"
   ]
  },
  {
   "cell_type": "code",
   "execution_count": 4,
   "metadata": {
    "execution": {
     "iopub.execute_input": "2020-10-15T01:14:43.577230Z",
     "iopub.status.busy": "2020-10-15T01:14:43.576228Z",
     "iopub.status.idle": "2020-10-15T01:14:44.991719Z",
     "shell.execute_reply": "2020-10-15T01:14:44.989944Z",
     "shell.execute_reply.started": "2020-10-15T01:14:43.577230Z"
    }
   },
   "outputs": [
    {
     "name": "stderr",
     "output_type": "stream",
     "text": [
      "<frozen importlib._bootstrap>:219: RuntimeWarning: numpy.ufunc size changed, may indicate binary incompatibility. Expected 192 from C header, got 216 from PyObject\n"
     ]
    }
   ],
   "source": [
    "import numpy as np\n",
    "import pandas as pd\n",
    "\n",
    "\n",
    "def Ken_Logistic(Xtrain,Ytrain,Xtest,n_iter=100000,lam=0.0001):\n",
    "    ones = np.ones((Xtrain.shape[0],1))\n",
    "    Xtrain_ = np.hstack((ones,Xtrain))\n",
    "    Xtrain_ = np.mat(Xtrain_)\n",
    "    w_ = np.mat(np.ones((Xtrain_.shape[1],1)))\n",
    "    Ytrain_ = np.mat(Ytrain).T\n",
    "    \n",
    "    ones1 = np.ones((Xtest.shape[0],1))\n",
    "    Xtest_ = np.hstack((ones1,Xtest))\n",
    "    Xtest_ = np.mat(Xtest_)\n",
    "    \n",
    "    #梯度下降，更新w\n",
    "    for i in range(n_iter):\n",
    "        gd = 1/Xtrain_.shape[0] * Xtrain_.T * ( sigmoid(Xtrain_,w_) - Ytrain_ )\n",
    "        w_ = w_ - gd*lam\n",
    "    \n",
    "    Y_pred_train = sigmoid(Xtrain_ , w_)\n",
    "    Y_pred_test = sigmoid(Xtest_ , w_)\n",
    "    return w_,predict_label(Y_pred_train),predict_label(Y_pred_test)\n",
    "        \n",
    "\n",
    "def sigmoid(X,w):\n",
    "    return 1 / (1+np.exp(-X*w))\n",
    "\n",
    "def predict_label(Y_pred,threshold=0.5):\n",
    "    return (Y_pred>threshold).astype('int')"
   ]
  },
  {
   "cell_type": "markdown",
   "metadata": {},
   "source": [
    "## 使用乳腺癌数据集测试效果"
   ]
  },
  {
   "cell_type": "code",
   "execution_count": 2,
   "metadata": {
    "execution": {
     "iopub.execute_input": "2020-10-15T01:14:30.691195Z",
     "iopub.status.busy": "2020-10-15T01:14:30.691195Z",
     "iopub.status.idle": "2020-10-15T01:14:30.783474Z",
     "shell.execute_reply": "2020-10-15T01:14:30.781480Z",
     "shell.execute_reply.started": "2020-10-15T01:14:30.691195Z"
    }
   },
   "outputs": [
    {
     "data": {
      "text/plain": [
       "(0.9874371859296482, 0.9883040935672515)"
      ]
     },
     "execution_count": 2,
     "metadata": {},
     "output_type": "execute_result"
    }
   ],
   "source": [
    "from sklearn.datasets import load_breast_cancer\n",
    "from sklearn.model_selection import train_test_split\n",
    "from sklearn.linear_model import LogisticRegression\n",
    "from sklearn.preprocessing import StandardScaler\n",
    "from sklearn.metrics import accuracy_score\n",
    "\n",
    "#导入数据\n",
    "bc = load_breast_cancer()\n",
    "X = bc.data\n",
    "Y = bc.target\n",
    "\n",
    "#划分训练集和测试集\n",
    "Xtrain,Xtest,Ytrain,Ytest = train_test_split(X,Y,test_size=0.3,random_state=45)\n",
    "\n",
    "#去量冈\n",
    "std = StandardScaler().fit(Xtrain)\n",
    "Xtrain = std.transform(Xtrain)\n",
    "Xtest = std.transform(Xtest)\n",
    "\n",
    "lr = LogisticRegression().fit(Xtrain,Ytrain)\n",
    "lr.score(Xtrain,Ytrain),lr.score(Xtest,Ytest)\n"
   ]
  },
  {
   "cell_type": "code",
   "execution_count": 5,
   "metadata": {
    "execution": {
     "iopub.execute_input": "2020-10-15T01:14:46.413522Z",
     "iopub.status.busy": "2020-10-15T01:14:46.413522Z",
     "iopub.status.idle": "2020-10-15T01:15:01.340211Z",
     "shell.execute_reply": "2020-10-15T01:15:01.339247Z",
     "shell.execute_reply.started": "2020-10-15T01:14:46.413522Z"
    }
   },
   "outputs": [
    {
     "data": {
      "text/plain": [
       "(0.9597989949748744, 0.9649122807017544)"
      ]
     },
     "execution_count": 5,
     "metadata": {},
     "output_type": "execute_result"
    }
   ],
   "source": [
    "w,Y_pred_train,Y_pred_test = Ken_Logistic(Xtrain,Ytrain,Xtest)\n",
    "accuracy_score(Ytrain,Y_pred_train),accuracy_score(Ytest,Y_pred_test)"
   ]
  },
  {
   "cell_type": "code",
   "execution_count": null,
   "metadata": {},
   "outputs": [],
   "source": []
  }
 ],
 "metadata": {
  "kernelspec": {
   "display_name": "Python 3",
   "language": "python",
   "name": "python3"
  },
  "language_info": {
   "codemirror_mode": {
    "name": "ipython",
    "version": 3
   },
   "file_extension": ".py",
   "mimetype": "text/x-python",
   "name": "python",
   "nbconvert_exporter": "python",
   "pygments_lexer": "ipython3",
   "version": "3.8.3"
  }
 },
 "nbformat": 4,
 "nbformat_minor": 4
}
